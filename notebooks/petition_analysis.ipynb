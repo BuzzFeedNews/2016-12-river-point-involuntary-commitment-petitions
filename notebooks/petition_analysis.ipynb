{
 "cells": [
  {
   "cell_type": "markdown",
   "metadata": {},
   "source": [
    "# Analysis of Duval County (FL) Court Data"
   ]
  },
  {
   "cell_type": "code",
   "execution_count": 1,
   "metadata": {
    "collapsed": true
   },
   "outputs": [],
   "source": [
    "import pandas as pd\n",
    "import numpy as np"
   ]
  },
  {
   "cell_type": "markdown",
   "metadata": {},
   "source": [
    "## Load case data from Duval County"
   ]
  },
  {
   "cell_type": "code",
   "execution_count": 2,
   "metadata": {
    "collapsed": false
   },
   "outputs": [],
   "source": [
    "cases = pd.read_excel(\n",
    "    \"../data/Cases_w_InvoluntaryPlacementPetitions_2016-11-07.xlsx\",\n",
    "    sheetname='Cases with Petitioners')"
   ]
  },
  {
   "cell_type": "code",
   "execution_count": 3,
   "metadata": {
    "collapsed": false
   },
   "outputs": [
    {
     "data": {
      "text/plain": [
       "10738"
      ]
     },
     "execution_count": 3,
     "metadata": {},
     "output_type": "execute_result"
    }
   ],
   "source": [
    "len(cases)"
   ]
  },
  {
   "cell_type": "code",
   "execution_count": 4,
   "metadata": {
    "collapsed": false,
    "scrolled": true
   },
   "outputs": [
    {
     "data": {
      "text/html": [
       "<div>\n",
       "<table border=\"1\" class=\"dataframe\">\n",
       "  <thead>\n",
       "    <tr style=\"text-align: right;\">\n",
       "      <th></th>\n",
       "      <th>CaseNumber</th>\n",
       "      <th>PetitionerAddressPart1</th>\n",
       "      <th>PetitionerAddressPart2</th>\n",
       "      <th>PetitionerCity</th>\n",
       "      <th>PetitionerState</th>\n",
       "      <th>PetitionerZipCode</th>\n",
       "      <th>PetitionerRelationship</th>\n",
       "    </tr>\n",
       "  </thead>\n",
       "  <tbody>\n",
       "    <tr>\n",
       "      <th>0</th>\n",
       "      <td>16-2008-MH-000431-XXXX-MA</td>\n",
       "      <td>800 PRUDENTIAL DR.</td>\n",
       "      <td>NaN</td>\n",
       "      <td>JACKSONVILLE</td>\n",
       "      <td>FL</td>\n",
       "      <td>32207</td>\n",
       "      <td>ADMINISTRATOR</td>\n",
       "    </tr>\n",
       "    <tr>\n",
       "      <th>1</th>\n",
       "      <td>16-2008-MH-000432-XXXX-MA</td>\n",
       "      <td>800 PRUDENTIAL DR.</td>\n",
       "      <td>NaN</td>\n",
       "      <td>JACKSONVILLE</td>\n",
       "      <td>FL</td>\n",
       "      <td>32207</td>\n",
       "      <td>ADMINISTRATOR BAPTIST MEDICAL CENTER</td>\n",
       "    </tr>\n",
       "  </tbody>\n",
       "</table>\n",
       "</div>"
      ],
      "text/plain": [
       "                  CaseNumber PetitionerAddressPart1 PetitionerAddressPart2  \\\n",
       "0  16-2008-MH-000431-XXXX-MA     800 PRUDENTIAL DR.                    NaN   \n",
       "1  16-2008-MH-000432-XXXX-MA     800 PRUDENTIAL DR.                    NaN   \n",
       "\n",
       "  PetitionerCity PetitionerState PetitionerZipCode  \\\n",
       "0   JACKSONVILLE              FL             32207   \n",
       "1   JACKSONVILLE              FL             32207   \n",
       "\n",
       "                 PetitionerRelationship  \n",
       "0                         ADMINISTRATOR  \n",
       "1  ADMINISTRATOR BAPTIST MEDICAL CENTER  "
      ]
     },
     "execution_count": 4,
     "metadata": {},
     "output_type": "execute_result"
    }
   ],
   "source": [
    "cases.head(2)"
   ]
  },
  {
   "cell_type": "code",
   "execution_count": 5,
   "metadata": {
    "collapsed": false
   },
   "outputs": [
    {
     "data": {
      "text/plain": [
       "10725"
      ]
     },
     "execution_count": 5,
     "metadata": {},
     "output_type": "execute_result"
    }
   ],
   "source": [
    "cases.CaseNumber.nunique()"
   ]
  },
  {
   "cell_type": "markdown",
   "metadata": {},
   "source": [
    "Checked that duplicate case numbers do not have different addresses for the petitioner.\n",
    "\n",
    "- Need to exclude `16-2009-MH-000250-XXXX-MA` because it lists both `11820 BEACH BLVD` and \n",
    "    `MHCJ 3333 W 20 TH ST` as the petitioner addresses. This does not affect the calculations\n",
    "    for River Point, located at 6300 BEACH BLVD."
   ]
  },
  {
   "cell_type": "code",
   "execution_count": 6,
   "metadata": {
    "collapsed": false
   },
   "outputs": [],
   "source": [
    "cases = cases[~cases[\"CaseNumber\"].str.contains('16-2009-MH-000250-XXXX-MA')]"
   ]
  },
  {
   "cell_type": "code",
   "execution_count": 7,
   "metadata": {
    "collapsed": false
   },
   "outputs": [],
   "source": [
    "cases[\"FileYear\"] = cases[\"CaseNumber\"].str.extract('-(....)-', expand=True)"
   ]
  },
  {
   "cell_type": "code",
   "execution_count": 8,
   "metadata": {
    "collapsed": true
   },
   "outputs": [],
   "source": [
    "cases[\"FileYear\"] = cases[\"FileYear\"].astype(int)"
   ]
  },
  {
   "cell_type": "code",
   "execution_count": 9,
   "metadata": {
    "collapsed": false
   },
   "outputs": [],
   "source": [
    "cases_2009_2015 = cases[\n",
    "    (cases[\"FileYear\"] >= 2009) &\n",
    "    (cases[\"FileYear\"] <= 2015)\n",
    "].copy()"
   ]
  },
  {
   "cell_type": "code",
   "execution_count": 10,
   "metadata": {
    "collapsed": false
   },
   "outputs": [
    {
     "data": {
      "text/html": [
       "<div>\n",
       "<table border=\"1\" class=\"dataframe\">\n",
       "  <thead>\n",
       "    <tr style=\"text-align: right;\">\n",
       "      <th></th>\n",
       "      <th>CaseNumber</th>\n",
       "    </tr>\n",
       "    <tr>\n",
       "      <th>FileYear</th>\n",
       "      <th></th>\n",
       "    </tr>\n",
       "  </thead>\n",
       "  <tbody>\n",
       "    <tr>\n",
       "      <th>2009</th>\n",
       "      <td>702</td>\n",
       "    </tr>\n",
       "    <tr>\n",
       "      <th>2010</th>\n",
       "      <td>980</td>\n",
       "    </tr>\n",
       "    <tr>\n",
       "      <th>2011</th>\n",
       "      <td>1148</td>\n",
       "    </tr>\n",
       "    <tr>\n",
       "      <th>2012</th>\n",
       "      <td>1731</td>\n",
       "    </tr>\n",
       "    <tr>\n",
       "      <th>2013</th>\n",
       "      <td>2050</td>\n",
       "    </tr>\n",
       "    <tr>\n",
       "      <th>2014</th>\n",
       "      <td>1732</td>\n",
       "    </tr>\n",
       "    <tr>\n",
       "      <th>2015</th>\n",
       "      <td>973</td>\n",
       "    </tr>\n",
       "  </tbody>\n",
       "</table>\n",
       "</div>"
      ],
      "text/plain": [
       "          CaseNumber\n",
       "FileYear            \n",
       "2009             702\n",
       "2010             980\n",
       "2011            1148\n",
       "2012            1731\n",
       "2013            2050\n",
       "2014            1732\n",
       "2015             973"
      ]
     },
     "execution_count": 10,
     "metadata": {},
     "output_type": "execute_result"
    }
   ],
   "source": [
    "pd.DataFrame(cases_2009_2015.groupby(\"FileYear\")[\"CaseNumber\"].nunique())"
   ]
  },
  {
   "cell_type": "markdown",
   "metadata": {},
   "source": [
    "### Clean up addresses "
   ]
  },
  {
   "cell_type": "code",
   "execution_count": 11,
   "metadata": {
    "collapsed": false
   },
   "outputs": [],
   "source": [
    "cases_2009_2015[\"address_clean\"] = np.nan"
   ]
  },
  {
   "cell_type": "code",
   "execution_count": 12,
   "metadata": {
    "collapsed": false
   },
   "outputs": [],
   "source": [
    "cases_2009_2015.loc[\n",
    "    (cases_2009_2015[\"PetitionerAddressPart1\"].str.contains(\"11820 BEACH\", case=False, na=False)),\n",
    "\"address_clean\"] = '11820 BEACH BLVD JACKSONVILLE, FL 32246'"
   ]
  },
  {
   "cell_type": "code",
   "execution_count": 13,
   "metadata": {
    "collapsed": true
   },
   "outputs": [],
   "source": [
    "cases_2009_2015.loc[\n",
    "    (cases_2009_2015[\"PetitionerAddressPart1\"].str.contains(\"^333\", case=False, na=False)) &\n",
    "    (cases_2009_2015[\"PetitionerAddressPart1\"].str.contains(\"20\", case=False, na=False)) &\n",
    "    (cases_2009_2015[\"PetitionerAddressPart1\"].str.contains(\"W\", case=False, na=False)),\n",
    "\"address_clean\"] = '3333 WEST 20TH ST JACKSONVILLE, FL 32209'"
   ]
  },
  {
   "cell_type": "code",
   "execution_count": 14,
   "metadata": {
    "collapsed": true
   },
   "outputs": [],
   "source": [
    "cases_2009_2015.loc[\n",
    "    (cases_2009_2015[\"PetitionerAddressPart1\"].str.contains(\"3333 W\", case=False, na=False)),\n",
    "\"address_clean\"] = '3333 WEST 20TH ST JACKSONVILLE, FL 32209'    "
   ]
  },
  {
   "cell_type": "code",
   "execution_count": 15,
   "metadata": {
    "collapsed": true
   },
   "outputs": [],
   "source": [
    "cases_2009_2015.loc[\n",
    "    (cases_2009_2015[\"PetitionerAddressPart1\"].str.contains(\"3333 20TH STREET\", case=False, na=False)),\n",
    "\"address_clean\"] = '3333 WEST 20TH ST JACKSONVILLE, FL 32209'"
   ]
  },
  {
   "cell_type": "code",
   "execution_count": 16,
   "metadata": {
    "collapsed": true
   },
   "outputs": [],
   "source": [
    "cases_2009_2015.loc[\n",
    "    (cases_2009_2015[\"PetitionerAddressPart1\"].str.contains(\"3333 20TH ST\", case=False, na=False)),\n",
    "\"address_clean\"] = '3333 WEST 20TH ST JACKSONVILLE, FL 32209'"
   ]
  },
  {
   "cell_type": "code",
   "execution_count": 17,
   "metadata": {
    "collapsed": true
   },
   "outputs": [],
   "source": [
    "cases_2009_2015.loc[\n",
    "    (cases_2009_2015[\"PetitionerAddressPart1\"].str.contains(\"^3625 U\", case=False, na=False)),\n",
    "\"address_clean\"] = '3625 UNIVERSITY BLVD S JACKSONVILLE, FL 32216'"
   ]
  },
  {
   "cell_type": "code",
   "execution_count": 18,
   "metadata": {
    "collapsed": true
   },
   "outputs": [],
   "source": [
    "cases_2009_2015.loc[\n",
    "    (cases_2009_2015[\"PetitionerAddressPart1\"].str.contains(\n",
    "            \"3635 UNIVERSITY BLVD\", case=False, na=False)),\n",
    "\"address_clean\"] = '3625 UNIVERSITY BLVD S JACKSONVILLE, FL 32216'"
   ]
  },
  {
   "cell_type": "code",
   "execution_count": 19,
   "metadata": {
    "collapsed": true
   },
   "outputs": [],
   "source": [
    "cases_2009_2015.loc[\n",
    "    (cases_2009_2015[\"PetitionerAddressPart1\"].str.contains(\n",
    "            \"3925 UNIVERSITY BLVD S\", case=False, na=False)),\n",
    "\"address_clean\"] = '3625 UNIVERSITY BLVD S JACKSONVILLE, FL 32216'"
   ]
  },
  {
   "cell_type": "code",
   "execution_count": 20,
   "metadata": {
    "collapsed": true
   },
   "outputs": [],
   "source": [
    "cases_2009_2015.loc[\n",
    "    (cases_2009_2015[\"PetitionerAddressPart1\"].str.contains(\n",
    "            \"UNNIVERSITY\", case=False, na=False)),\n",
    "\"address_clean\"] = '3625 UNIVERSITY BLVD S JACKSONVILLE, FL 32216'"
   ]
  },
  {
   "cell_type": "code",
   "execution_count": 21,
   "metadata": {
    "collapsed": false
   },
   "outputs": [],
   "source": [
    "cases_2009_2015.loc[\n",
    "    (cases_2009_2015[\"PetitionerAddressPart1\"].str.contains('BURY', case=False)) &\n",
    "    (cases_2009_2015[\"PetitionerAddressPart1\"].str.contains('^3947')),\n",
    "\"address_clean\"] = '3947 SALISBURY RD. N.'"
   ]
  },
  {
   "cell_type": "code",
   "execution_count": 22,
   "metadata": {
    "collapsed": true
   },
   "outputs": [],
   "source": [
    "cases_2009_2015.loc[\n",
    "    (cases_2009_2015[\"PetitionerAddressPart1\"].str.contains('3947 SALIS', case=False)),\n",
    "\"address_clean\"] = '3947 SALISBURY RD. N.'"
   ]
  },
  {
   "cell_type": "code",
   "execution_count": 23,
   "metadata": {
    "collapsed": true
   },
   "outputs": [],
   "source": [
    "cases_2009_2015.loc[\n",
    "    (cases_2009_2015[\"PetitionerAddressPart1\"].str.contains(\"^630\", case=False, na=False)) &\n",
    "    (cases_2009_2015[\"PetitionerAddressPart1\"].str.contains(\"BEA\", case=False, na=False)),\n",
    "\"address_clean\"] = '6300 BEACH BLVD JACKSONVILLE, FL 32216'"
   ]
  },
  {
   "cell_type": "code",
   "execution_count": 24,
   "metadata": {
    "collapsed": true
   },
   "outputs": [],
   "source": [
    "cases_2009_2015.loc[\n",
    "    (cases_2009_2015[\"PetitionerAddressPart1\"].str.contains(\n",
    "            \"6300 BEACH\", case=False, na=False)),\n",
    "\"address_clean\"] = '6300 BEACH BLVD JACKSONVILLE, FL 32216'"
   ]
  },
  {
   "cell_type": "code",
   "execution_count": 25,
   "metadata": {
    "collapsed": true
   },
   "outputs": [],
   "source": [
    "cases_2009_2015.loc[\n",
    "    (cases_2009_2015[\"PetitionerAddressPart1\"].str.contains(\n",
    "            \"6300 BECH\", case=False, na=False)),\n",
    "\"address_clean\"] = '6300 BEACH BLVD JACKSONVILLE, FL 32216'"
   ]
  },
  {
   "cell_type": "code",
   "execution_count": 26,
   "metadata": {
    "collapsed": true
   },
   "outputs": [],
   "source": [
    "cases_2009_2015.loc[\n",
    "    (cases_2009_2015[\"PetitionerAddressPart1\"].str.contains(\n",
    "            \"6300 B3EACH BLVD\", case=False, na=False)),\n",
    "\"address_clean\"] = '6300 BEACH BLVD JACKSONVILLE, FL 32216'"
   ]
  },
  {
   "cell_type": "code",
   "execution_count": 27,
   "metadata": {
    "collapsed": true
   },
   "outputs": [],
   "source": [
    "cases_2009_2015.loc[\n",
    "    (cases_2009_2015[\"PetitionerAddressPart1\"].str.contains(\n",
    "            \"6300 BEEACH BLVD\", case=False, na=False)),\n",
    "\"address_clean\"] = '6300 BEACH BLVD JACKSONVILLE, FL 32216'"
   ]
  },
  {
   "cell_type": "code",
   "execution_count": 28,
   "metadata": {
    "collapsed": true
   },
   "outputs": [],
   "source": [
    "cases_2009_2015.loc[\n",
    "    (cases_2009_2015[\"PetitionerAddressPart1\"].str.contains(\n",
    "            \"3600 BEACH BLVD\", case=False, na=False)),\n",
    "\"address_clean\"] = '6300 BEACH BLVD JACKSONVILLE, FL 32216'"
   ]
  },
  {
   "cell_type": "code",
   "execution_count": 29,
   "metadata": {
    "collapsed": true
   },
   "outputs": [],
   "source": [
    "cases_2009_2015.loc[\n",
    "    (cases_2009_2015[\"PetitionerAddressPart1\"].str.contains(\"^655\", case=False, na=False)),\n",
    "\"address_clean\"] = '655 W 8TH STREET JACKSONVILLE, FL 32209'"
   ]
  },
  {
   "cell_type": "code",
   "execution_count": 30,
   "metadata": {
    "collapsed": true
   },
   "outputs": [],
   "source": [
    "cases_2009_2015.loc[\n",
    "    (cases_2009_2015[\"PetitionerAddressPart1\"].str.contains(\"655 W\", case=False, na=False)),\n",
    "\"address_clean\"] = '655 W 8TH STREET JACKSONVILLE, FL 32209'"
   ]
  },
  {
   "cell_type": "code",
   "execution_count": 31,
   "metadata": {
    "collapsed": true
   },
   "outputs": [],
   "source": [
    "cases_2009_2015.loc[\n",
    "    (cases_2009_2015[\"PetitionerAddressPart1\"].str.contains(\"665 W\", case=False, na=False)),\n",
    "\"address_clean\"] = '655 W 8TH STREET JACKSONVILLE, FL 32209'"
   ]
  },
  {
   "cell_type": "code",
   "execution_count": 32,
   "metadata": {
    "collapsed": true
   },
   "outputs": [],
   "source": [
    "cases_2009_2015.loc[\n",
    "    (cases_2009_2015[\"PetitionerAddressPart1\"].str.contains(\"UF AND SHANDS\", case=False, na=False)),\n",
    "\"address_clean\"] = '655 W 8TH STREET JACKSONVILLE, FL 32209'"
   ]
  },
  {
   "cell_type": "code",
   "execution_count": 33,
   "metadata": {
    "collapsed": true
   },
   "outputs": [],
   "source": [
    "cases_2009_2015.loc[\n",
    "    (cases_2009_2015[\"PetitionerAddressPart1\"].str.contains(\"^800\", case=False, na=False)),\n",
    "\"address_clean\"] = '800 PRUDENTIAL DRIVE JACKSONVILLE, FL 32207'"
   ]
  },
  {
   "cell_type": "code",
   "execution_count": 34,
   "metadata": {
    "collapsed": true
   },
   "outputs": [],
   "source": [
    "cases_2009_2015.loc[\n",
    "    (cases_2009_2015[\"PetitionerAddressPart1\"].str.contains(\"800 PR\", case=False, na=False)),\n",
    "\"address_clean\"] = '800 PRUDENTIAL DRIVE JACKSONVILLE, FL 32207'"
   ]
  },
  {
   "cell_type": "markdown",
   "metadata": {},
   "source": [
    "## Petition count by institution"
   ]
  },
  {
   "cell_type": "code",
   "execution_count": 35,
   "metadata": {
    "collapsed": true
   },
   "outputs": [],
   "source": [
    "petition_counts = pd.DataFrame({\n",
    "    \"petition_count\": cases_2009_2015.groupby([\"address_clean\",\"FileYear\"]).size()\n",
    "}).reset_index()"
   ]
  },
  {
   "cell_type": "markdown",
   "metadata": {},
   "source": [
    "### River Point petitions over time (located at 6300 BEACH BLVD)"
   ]
  },
  {
   "cell_type": "code",
   "execution_count": 36,
   "metadata": {
    "collapsed": true
   },
   "outputs": [],
   "source": [
    "river_point = petition_counts[\n",
    "        petition_counts[\"address_clean\"] == \"6300 BEACH BLVD JACKSONVILLE, FL 32216\"\n",
    "].set_index(\"FileYear\")"
   ]
  },
  {
   "cell_type": "code",
   "execution_count": 37,
   "metadata": {
    "collapsed": false
   },
   "outputs": [
    {
     "data": {
      "text/html": [
       "<div>\n",
       "<table border=\"1\" class=\"dataframe\">\n",
       "  <thead>\n",
       "    <tr style=\"text-align: right;\">\n",
       "      <th></th>\n",
       "      <th>address_clean</th>\n",
       "      <th>petition_count</th>\n",
       "    </tr>\n",
       "    <tr>\n",
       "      <th>FileYear</th>\n",
       "      <th></th>\n",
       "      <th></th>\n",
       "    </tr>\n",
       "  </thead>\n",
       "  <tbody>\n",
       "    <tr>\n",
       "      <th>2009</th>\n",
       "      <td>6300 BEACH BLVD JACKSONVILLE, FL 32216</td>\n",
       "      <td>238</td>\n",
       "    </tr>\n",
       "    <tr>\n",
       "      <th>2010</th>\n",
       "      <td>6300 BEACH BLVD JACKSONVILLE, FL 32216</td>\n",
       "      <td>549</td>\n",
       "    </tr>\n",
       "    <tr>\n",
       "      <th>2011</th>\n",
       "      <td>6300 BEACH BLVD JACKSONVILLE, FL 32216</td>\n",
       "      <td>712</td>\n",
       "    </tr>\n",
       "    <tr>\n",
       "      <th>2012</th>\n",
       "      <td>6300 BEACH BLVD JACKSONVILLE, FL 32216</td>\n",
       "      <td>1131</td>\n",
       "    </tr>\n",
       "    <tr>\n",
       "      <th>2013</th>\n",
       "      <td>6300 BEACH BLVD JACKSONVILLE, FL 32216</td>\n",
       "      <td>1362</td>\n",
       "    </tr>\n",
       "    <tr>\n",
       "      <th>2014</th>\n",
       "      <td>6300 BEACH BLVD JACKSONVILLE, FL 32216</td>\n",
       "      <td>940</td>\n",
       "    </tr>\n",
       "    <tr>\n",
       "      <th>2015</th>\n",
       "      <td>6300 BEACH BLVD JACKSONVILLE, FL 32216</td>\n",
       "      <td>175</td>\n",
       "    </tr>\n",
       "  </tbody>\n",
       "</table>\n",
       "</div>"
      ],
      "text/plain": [
       "                                   address_clean  petition_count\n",
       "FileYear                                                        \n",
       "2009      6300 BEACH BLVD JACKSONVILLE, FL 32216             238\n",
       "2010      6300 BEACH BLVD JACKSONVILLE, FL 32216             549\n",
       "2011      6300 BEACH BLVD JACKSONVILLE, FL 32216             712\n",
       "2012      6300 BEACH BLVD JACKSONVILLE, FL 32216            1131\n",
       "2013      6300 BEACH BLVD JACKSONVILLE, FL 32216            1362\n",
       "2014      6300 BEACH BLVD JACKSONVILLE, FL 32216             940\n",
       "2015      6300 BEACH BLVD JACKSONVILLE, FL 32216             175"
      ]
     },
     "execution_count": 37,
     "metadata": {},
     "output_type": "execute_result"
    }
   ],
   "source": [
    "river_point"
   ]
  },
  {
   "cell_type": "code",
   "execution_count": 38,
   "metadata": {
    "collapsed": false
   },
   "outputs": [],
   "source": [
    "pct_change = (river_point.ix[2013][\"petition_count\"]-river_point.ix[2009][\"petition_count\"])\\\n",
    "    /float(river_point.ix[2009][\"petition_count\"]) * 100.0"
   ]
  },
  {
   "cell_type": "code",
   "execution_count": 39,
   "metadata": {
    "collapsed": false
   },
   "outputs": [
    {
     "name": "stdout",
     "output_type": "stream",
     "text": [
      "The percentage change from 2009 to 2013 was: 472.3%\n"
     ]
    }
   ],
   "source": [
    "print(\"The percentage change from 2009 to 2013 was: {0:.1f}%\".format(pct_change))"
   ]
  },
  {
   "cell_type": "markdown",
   "metadata": {},
   "source": [
    "---\n",
    "\n",
    "---\n",
    "\n",
    "---"
   ]
  }
 ],
 "metadata": {
  "kernelspec": {
   "display_name": "Python 3",
   "language": "python",
   "name": "python3"
  },
  "language_info": {
   "codemirror_mode": {
    "name": "ipython",
    "version": 3
   },
   "file_extension": ".py",
   "mimetype": "text/x-python",
   "name": "python",
   "nbconvert_exporter": "python",
   "pygments_lexer": "ipython3",
   "version": "3.4.1"
  }
 },
 "nbformat": 4,
 "nbformat_minor": 0
}
